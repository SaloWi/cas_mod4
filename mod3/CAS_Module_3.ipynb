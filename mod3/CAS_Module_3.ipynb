{
  "nbformat": 4,
  "nbformat_minor": 0,
  "metadata": {
    "colab": {
      "provenance": []
    },
    "kernelspec": {
      "name": "python3",
      "display_name": "Python 3"
    },
    "language_info": {
      "name": "python"
    }
  },
  "cells": [
    {
      "cell_type": "markdown",
      "source": [
        "# Unravelling the Human Interaction with Generative AI-Based Decision Support in Healthcare\n",
        "\n",
        "### CAS ADS Module 3 by Mayra Spizzo and Salomé Wittwer"
      ],
      "metadata": {
        "id": "ZGTSHjBjDWPN"
      }
    },
    {
      "cell_type": "markdown",
      "source": [
        "## Introduction"
      ],
      "metadata": {
        "id": "YCrsEom7DxKf"
      }
    },
    {
      "cell_type": "code",
      "source": [],
      "metadata": {
        "id": "qLfVUVzSD1rK"
      },
      "execution_count": null,
      "outputs": []
    },
    {
      "cell_type": "markdown",
      "source": [
        "## Data Collection and Description"
      ],
      "metadata": {
        "id": "Mgq0kAiPD3MC"
      }
    },
    {
      "cell_type": "markdown",
      "source": [
        "\n",
        "*   The participation in the study is possible for all medical students at the Charité Medical School in Berlin that are in the fourth year of their studies (N = 640), are at least 18 years old, and have given their written consent for participation.\n",
        "\n",
        "*   Data collection started on 22 April, 2024 and until 6 October, 2024\n",
        "\n",
        "\n",
        "\n",
        "\n",
        "*   The medical students are given diagnostic tasks consist of two patient cases that are presented in random order. The patient cases in each of the two diagnostic tasks are based on real emergency cases\n",
        "\n",
        "*   The participants are randomly assigned to one condition (i.e., either to the human coach or ChatGPT). Participants have the possibility to chat with\n",
        "their assigned assistant in real time (i.e., a human coach or ChatGPT) as a support to solve the diagnostic task. During the diagnostic tasks, all clicks, noted differential diagnoses, and chat interactions are logged with timestamps\n",
        "\n",
        "\n",
        "\n",
        "\n",
        "\n",
        "\n",
        "\n",
        "\n",
        "\n",
        "\n",
        "\n"
      ],
      "metadata": {
        "id": "-AUT1ylBFka7"
      }
    },
    {
      "cell_type": "code",
      "source": [],
      "metadata": {
        "id": "ny7eNy1VEGrY"
      },
      "execution_count": null,
      "outputs": []
    },
    {
      "cell_type": "markdown",
      "source": [
        "## Descriptive Statistics"
      ],
      "metadata": {
        "id": "oT5uPhc_D7_h"
      }
    },
    {
      "cell_type": "code",
      "source": [],
      "metadata": {
        "id": "8wGGfmEdEHMm"
      },
      "execution_count": null,
      "outputs": []
    },
    {
      "cell_type": "markdown",
      "source": [
        "## Unsupervised Machine Learning Methods"
      ],
      "metadata": {
        "id": "TJ8JrlGOEBC-"
      }
    },
    {
      "cell_type": "code",
      "source": [],
      "metadata": {
        "id": "rHwB2zNQEHne"
      },
      "execution_count": null,
      "outputs": []
    }
  ]
}
