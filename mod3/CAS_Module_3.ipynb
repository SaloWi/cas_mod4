{
 "cells": [
  {
   "cell_type": "markdown",
   "metadata": {
    "id": "ZGTSHjBjDWPN"
   },
   "source": [
    "# Unravelling the Human Interaction with Generative AI-Based Decision Support in Healthcare\n",
    "\n",
    "### CAS ADS Module 3 by Mayra Spizzo and Salomé Wittwer"
   ]
  },
  {
   "cell_type": "markdown",
   "metadata": {
    "id": "YCrsEom7DxKf"
   },
   "source": [
    "## Introduction"
   ]
  },
  {
   "cell_type": "code",
   "execution_count": null,
   "metadata": {
    "id": "qLfVUVzSD1rK"
   },
   "outputs": [],
   "source": []
  },
  {
   "cell_type": "markdown",
   "metadata": {
    "id": "Mgq0kAiPD3MC"
   },
   "source": [
    "## Data Collection and Description"
   ]
  },
  {
   "cell_type": "markdown",
   "metadata": {
    "id": "-AUT1ylBFka7"
   },
   "source": [
    "\n",
    "*   The participation in the study is possible for all medical students at the Charité Medical School in Berlin that are in the fourth year of their studies (N = 640), are at least 18 years old, and have given their written consent for participation.\n",
    "\n",
    "*   Data collection started on 22 April, 2024 and until 6 October, 2024\n",
    "\n",
    "\n",
    "\n",
    "\n",
    "*   The medical students are given diagnostic tasks consist of two patient cases that are presented in random order. The patient cases in each of the two diagnostic tasks are based on real emergency cases\n",
    "\n",
    "*   The participants are randomly assigned to one condition (i.e., either to the human coach or ChatGPT). Participants have the possibility to chat with\n",
    "their assigned assistant in real time (i.e., a human coach or ChatGPT) as a support to solve the diagnostic task. During the diagnostic tasks, all clicks, noted differential diagnoses, and chat interactions are logged with timestamps\n",
    "\n",
    "\n",
    "\n",
    "\n",
    "\n",
    "\n",
    "\n",
    "\n",
    "\n",
    "\n",
    "\n"
   ]
  },
  {
   "cell_type": "code",
   "execution_count": null,
   "metadata": {
    "id": "ny7eNy1VEGrY"
   },
   "outputs": [],
   "source": [
    "# libraries\n",
    "import pandas as pd"
   ]
  },
  {
   "cell_type": "markdown",
   "metadata": {
    "id": "oT5uPhc_D7_h"
   },
   "source": [
    "## Descriptive Statistics"
   ]
  },
  {
   "cell_type": "code",
   "execution_count": null,
   "metadata": {
    "id": "8wGGfmEdEHMm"
   },
   "outputs": [
    {
     "name": "stdout",
     "output_type": "stream",
     "text": [
      "      Id  Count  SessionId ParticipantId Condition  CaseTrue  Patienthistory  \\\n",
      "0   9981      1  317931945      AMLE1968       GPT         2               1   \n",
      "1  10255      2  317931945      AMLE1968       GPT         1               1   \n",
      "2   8799      3  140515775      AMMM1965       GPT         1               1   \n",
      "3   9109      4  140515775      AMMM1965       GPT         2               1   \n",
      "4   8808      5  713200839      AMTM1969     Human         2               1   \n",
      "\n",
      "   Patientfindings  Patientlab  Patientbildgebung  ...  Other  \\\n",
      "0                1           1                  1  ...      1   \n",
      "1                1           1                  1  ...      2   \n",
      "2                0           0                  0  ...      2   \n",
      "3                0           0                  0  ...      2   \n",
      "4                0           0                  0  ...      5   \n",
      "\n",
      "   FirstQuestionCopy  FirstQuestionSelf  AmountDiagnosesMentioned  \\\n",
      "0                  0                  1                         9   \n",
      "1                  0                  1                         2   \n",
      "2                  1                  0                        14   \n",
      "3                  1                  0                         4   \n",
      "4                  1                  0                         7   \n",
      "\n",
      "  AmountDiagnosesExcluded  DurationInteraction  DurationInteractionSeconds  \\\n",
      "0                       0             00:10:00                         600   \n",
      "1                       0             00:09:00                         540   \n",
      "2                       0             00:13:59                         839   \n",
      "3                       0             00:11:15                         675   \n",
      "4                       1             00:17:21                        1041   \n",
      "\n",
      "   AmountInteraction  StartInteraction  EndInteraction  \n",
      "0                  8          15:12:00        15:22:00  \n",
      "1                  8          15:30:00        15:39:00  \n",
      "2                 20          16:14:46        16:28:45  \n",
      "3                 16          16:32:51        16:44:06  \n",
      "4                 28          16:14:21        16:31:42  \n",
      "\n",
      "[5 rows x 33 columns]\n"
     ]
    }
   ],
   "source": [
    "# load data\n",
    "df = pd.read_csv(\"Daten_Experiment.csv\", sep=';')\n",
    "print(df.head())"
   ]
  },
  {
   "cell_type": "markdown",
   "metadata": {
    "id": "TJ8JrlGOEBC-"
   },
   "source": [
    "## Unsupervised Machine Learning Methods"
   ]
  },
  {
   "cell_type": "code",
   "execution_count": null,
   "metadata": {
    "id": "rHwB2zNQEHne"
   },
   "outputs": [],
   "source": []
  }
 ],
 "metadata": {
  "colab": {
   "provenance": []
  },
  "kernelspec": {
   "display_name": "Python 3",
   "name": "python3"
  },
  "language_info": {
   "codemirror_mode": {
    "name": "ipython",
    "version": 3
   },
   "file_extension": ".py",
   "mimetype": "text/x-python",
   "name": "python",
   "nbconvert_exporter": "python",
   "pygments_lexer": "ipython3",
   "version": "3.9.13"
  }
 },
 "nbformat": 4,
 "nbformat_minor": 0
}
